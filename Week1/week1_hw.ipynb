{
 "cells": [
  {
   "cell_type": "markdown",
   "id": "695a5886",
   "metadata": {},
   "source": [
    "## Session #1 Homework"
   ]
  },
  {
   "cell_type": "markdown",
   "id": "d027e759",
   "metadata": {},
   "source": [
    "### Set up the environment\n",
    "\n",
    "You need to install Python, NumPy, Pandas, Matplotlib and Seaborn. For that, you can the instructions from\n",
    "[06-environment.md](https://github.com/alexeygrigorev/mlbookcamp-code/blob/master/course-zoomcamp/01-intro/06-environment.md)."
   ]
  },
  {
   "cell_type": "code",
   "execution_count": 50,
   "id": "c14a3559",
   "metadata": {},
   "outputs": [],
   "source": [
    "## Imports\n",
    "import numpy as np\n",
    "import pandas as pd"
   ]
  },
  {
   "cell_type": "markdown",
   "id": "03a5437c",
   "metadata": {},
   "source": [
    "### Question 1\n",
    "\n",
    "What's the version of NumPy that you installed? \n",
    "\n",
    "You can get the version information using the `__version__` field:\n",
    "\n",
    "```python\n",
    "np.__version__\n",
    "```\n",
    "#### Solution \n",
    "1.23.3"
   ]
  },
  {
   "cell_type": "code",
   "execution_count": 51,
   "id": "4a5bdede",
   "metadata": {},
   "outputs": [
    {
     "data": {
      "text/plain": [
       "'1.23.3'"
      ]
     },
     "execution_count": 51,
     "metadata": {},
     "output_type": "execute_result"
    }
   ],
   "source": [
    "np.__version__"
   ]
  },
  {
   "cell_type": "markdown",
   "id": "7284cd1e",
   "metadata": {},
   "source": [
    "### Getting the data \n",
    "\n",
    "For this homework, we'll use the Car price dataset. Download it from \n",
    "[here](https://raw.githubusercontent.com/alexeygrigorev/mlbookcamp-code/master/chapter-02-car-price/data.csv).\n",
    "\n",
    "You can do it with wget:\n",
    "\n",
    "```bash\n",
    "wget https://raw.githubusercontent.com/alexeygrigorev/mlbookcamp-code/master/chapter-02-car-price/data.csv\n",
    "```\n",
    "\n",
    "Or just open it with your browser and click \"Save as...\".\n",
    "\n",
    "Now read it with Pandas."
   ]
  },
  {
   "cell_type": "code",
   "execution_count": 52,
   "id": "928f784c",
   "metadata": {},
   "outputs": [
    {
     "data": {
      "text/plain": [
       "'1.4.4'"
      ]
     },
     "execution_count": 52,
     "metadata": {},
     "output_type": "execute_result"
    }
   ],
   "source": [
    "pd.__version__"
   ]
  },
  {
   "cell_type": "markdown",
   "id": "f3965de4",
   "metadata": {},
   "source": [
    "### Question 2\n",
    "\n",
    "How many records are in the dataset?\n",
    "\n",
    "Here you need to specify the number of rows.\n",
    "\n",
    "- 16\n",
    "- 6572\n",
    "- <font color='red'>**11914 `<------------------`**</font>\n",
    "- 18990"
   ]
  },
  {
   "cell_type": "code",
   "execution_count": 53,
   "id": "ecca23dd",
   "metadata": {},
   "outputs": [],
   "source": [
    "# load data\n",
    "df = pd.read_csv('./data.csv')"
   ]
  },
  {
   "cell_type": "code",
   "execution_count": 54,
   "id": "7b8f015a",
   "metadata": {},
   "outputs": [
    {
     "data": {
      "text/plain": [
       "11914"
      ]
     },
     "execution_count": 54,
     "metadata": {},
     "output_type": "execute_result"
    }
   ],
   "source": [
    "len(df)"
   ]
  },
  {
   "cell_type": "markdown",
   "id": "99cd7fa9",
   "metadata": {},
   "source": [
    "### Question 3\n",
    "\n",
    "Who are the most frequent car manufacturers (top-3) according to the dataset?\n",
    "\n",
    "- Chevrolet, Volkswagen, Toyota\n",
    "- Chevrolet, Ford, Toyota\n",
    "- Ford, Volkswagen, Toyota\n",
    "- <font color='red'>**Chevrolet, Ford, Volkswagen\n",
    "\n",
    "> **Note**: You should rely on \"Make\" column in this question."
   ]
  },
  {
   "cell_type": "code",
   "execution_count": 55,
   "id": "35857b89",
   "metadata": {},
   "outputs": [
    {
     "data": {
      "text/plain": [
       "Make                 11914\n",
       "Model                11914\n",
       "Year                 11914\n",
       "Engine Fuel Type     11911\n",
       "Engine HP            11845\n",
       "Engine Cylinders     11884\n",
       "Transmission Type    11914\n",
       "Driven_Wheels        11914\n",
       "Number of Doors      11908\n",
       "Market Category       8172\n",
       "Vehicle Size         11914\n",
       "Vehicle Style        11914\n",
       "highway MPG          11914\n",
       "city mpg             11914\n",
       "Popularity           11914\n",
       "MSRP                 11914\n",
       "dtype: int64"
      ]
     },
     "execution_count": 55,
     "metadata": {},
     "output_type": "execute_result"
    }
   ],
   "source": [
    "# Columns\n",
    "df.count()"
   ]
  },
  {
   "cell_type": "markdown",
   "id": "eaac1671",
   "metadata": {},
   "source": [
    "Ref: https://www.geeksforgeeks.org/sort-dataframe-according-to-row-frequency-in-pandas/"
   ]
  },
  {
   "cell_type": "code",
   "execution_count": 57,
   "id": "1fe0496a",
   "metadata": {},
   "outputs": [
    {
     "data": {
      "text/html": [
       "<div>\n",
       "<style scoped>\n",
       "    .dataframe tbody tr th:only-of-type {\n",
       "        vertical-align: middle;\n",
       "    }\n",
       "\n",
       "    .dataframe tbody tr th {\n",
       "        vertical-align: top;\n",
       "    }\n",
       "\n",
       "    .dataframe thead th {\n",
       "        text-align: right;\n",
       "    }\n",
       "</style>\n",
       "<table border=\"1\" class=\"dataframe\">\n",
       "  <thead>\n",
       "    <tr style=\"text-align: right;\">\n",
       "      <th></th>\n",
       "      <th>Make</th>\n",
       "      <th>Count</th>\n",
       "    </tr>\n",
       "  </thead>\n",
       "  <tbody>\n",
       "    <tr>\n",
       "      <th>9</th>\n",
       "      <td>Chevrolet</td>\n",
       "      <td>1123</td>\n",
       "    </tr>\n",
       "    <tr>\n",
       "      <th>14</th>\n",
       "      <td>Ford</td>\n",
       "      <td>881</td>\n",
       "    </tr>\n",
       "    <tr>\n",
       "      <th>46</th>\n",
       "      <td>Volkswagen</td>\n",
       "      <td>809</td>\n",
       "    </tr>\n",
       "    <tr>\n",
       "      <th>45</th>\n",
       "      <td>Toyota</td>\n",
       "      <td>746</td>\n",
       "    </tr>\n",
       "    <tr>\n",
       "      <th>11</th>\n",
       "      <td>Dodge</td>\n",
       "      <td>626</td>\n",
       "    </tr>\n",
       "  </tbody>\n",
       "</table>\n",
       "</div>"
      ],
      "text/plain": [
       "          Make  Count\n",
       "9    Chevrolet   1123\n",
       "14        Ford    881\n",
       "46  Volkswagen    809\n",
       "45      Toyota    746\n",
       "11       Dodge    626"
      ]
     },
     "execution_count": 57,
     "metadata": {},
     "output_type": "execute_result"
    }
   ],
   "source": [
    "df.groupby(['Make'])['Make'].count().reset_index(\n",
    "  name='Count').sort_values(['Count'], ascending=False).head(n=5)"
   ]
  },
  {
   "cell_type": "markdown",
   "id": "da085669",
   "metadata": {},
   "source": [
    "### Question 4\n",
    "\n",
    "What's the number of unique Audi car models in the dataset?\n",
    "\n",
    "- 3\n",
    "- 16\n",
    "- 26\n",
    "- <font color='red'>**34**</font>`<------------------`"
   ]
  },
  {
   "cell_type": "code",
   "execution_count": 58,
   "id": "c581f935",
   "metadata": {},
   "outputs": [
    {
     "data": {
      "text/plain": [
       "Make                   1\n",
       "Model                 34\n",
       "Year                  20\n",
       "Engine Fuel Type       5\n",
       "Engine HP             40\n",
       "Engine Cylinders       6\n",
       "Transmission Type      3\n",
       "Driven_Wheels          2\n",
       "Number of Doors        2\n",
       "Market Category       15\n",
       "Vehicle Size           3\n",
       "Vehicle Style          6\n",
       "highway MPG           23\n",
       "city mpg              18\n",
       "Popularity             1\n",
       "MSRP                 234\n",
       "dtype: int64"
      ]
     },
     "execution_count": 58,
     "metadata": {},
     "output_type": "execute_result"
    }
   ],
   "source": [
    "df[df['Make'] == 'Audi'].nunique()"
   ]
  },
  {
   "cell_type": "markdown",
   "id": "29b2be83",
   "metadata": {},
   "source": [
    "### Question 5\n",
    "\n",
    "How many columns in the dataset have missing values?\n",
    "\n",
    "- <font color='red'>**5**</font>`<------------------`\n",
    "- 6\n",
    "- 7\n",
    "- 8"
   ]
  },
  {
   "cell_type": "code",
   "execution_count": 59,
   "id": "f460652a",
   "metadata": {},
   "outputs": [
    {
     "data": {
      "text/plain": [
       "Make                    0\n",
       "Model                   0\n",
       "Year                    0\n",
       "Engine Fuel Type        3\n",
       "Engine HP              69\n",
       "Engine Cylinders       30\n",
       "Transmission Type       0\n",
       "Driven_Wheels           0\n",
       "Number of Doors         6\n",
       "Market Category      3742\n",
       "Vehicle Size            0\n",
       "Vehicle Style           0\n",
       "highway MPG             0\n",
       "city mpg                0\n",
       "Popularity              0\n",
       "MSRP                    0\n",
       "dtype: int64"
      ]
     },
     "execution_count": 59,
     "metadata": {},
     "output_type": "execute_result"
    }
   ],
   "source": [
    "df.isnull().sum()"
   ]
  },
  {
   "cell_type": "markdown",
   "id": "12c6372b",
   "metadata": {},
   "source": [
    "### Question 6\n",
    "\n",
    "1. Find the median value of \"Engine Cylinders\" column in the dataset.\n",
    "2. Next, calculate the most frequent value of the same \"Engine Cylinders\".\n",
    "3. Use the `fillna` method to fill the missing values in \"Engine Cylinders\" with the most frequent value from the previous step.\n",
    "4. Now, calculate the median value of \"Engine Cylinders\" once again.\n",
    "\n",
    "Has it changed?\n",
    "\n",
    "> Hint: refer to existing `mode` and `median` functions to complete the task.\n",
    "\n",
    "- Yes\n",
    "- <font color='red'>**No**</font>`<------------------`\n"
   ]
  },
  {
   "cell_type": "code",
   "execution_count": 60,
   "id": "fe0471f3",
   "metadata": {},
   "outputs": [
    {
     "name": "stdout",
     "output_type": "stream",
     "text": [
      "Median of Engine Cylinders (before median): 6.0\n",
      "Median of Engine Cylinders (after median): 6.0\n"
     ]
    }
   ],
   "source": [
    "# median of 'Engine Cylinders'\n",
    "median_ec = df['Engine Cylinders'].median()\n",
    "print (f'Median of Engine Cylinders (before median): {median_ec}')\n",
    "# 6.0\n",
    "\n",
    "# fillna with 6.0\n",
    "df['Engine Cylinders'].fillna(value=median_ec, inplace=True)\n",
    "\n",
    "median_ec = df['Engine Cylinders'].median()\n",
    "print (f'Median of Engine Cylinders (after median): {median_ec}')\n",
    "# 6.0"
   ]
  },
  {
   "cell_type": "markdown",
   "id": "d72544c3",
   "metadata": {},
   "source": [
    "### Question 7\n",
    "\n",
    "1. Select all the \"Lotus\" cars from the dataset.\n",
    "2. Select only columns \"Engine HP\", \"Engine Cylinders\".\n",
    "3. Now drop all duplicated rows using `drop_duplicates` method (you should get a dataframe with 9 rows).\n",
    "4. Get the underlying NumPy array. Let's call it `X`.\n",
    "5. Compute matrix-matrix multiplication between the transpose of `X` and `X`. To get the transpose, use `X.T`. Let's call the result `XTX`.\n",
    "6. Invert `XTX`.\n",
    "7. Create an array `y` with values `[1100, 800, 750, 850, 1300, 1000, 1000, 1300, 800]`.\n",
    "8. Multiply the inverse of `XTX` with the transpose of `X`, and then multiply the result by `y`. Call the result `w`.\n",
    "9. What's the value of the first element of `w`?\n",
    "\n",
    "> **Note**: You just implemented linear regression. We'll talk about it in the next lesson.\n",
    "\n",
    "- -0.0723\n",
    "- <font color='red'>**4.5949**</font>`<------------------`\n",
    "- 31.6537\n",
    "- 63.5643"
   ]
  },
  {
   "cell_type": "code",
   "execution_count": 61,
   "id": "e550e759",
   "metadata": {},
   "outputs": [
    {
     "name": "stdout",
     "output_type": "stream",
     "text": [
      "29\n",
      "9\n"
     ]
    },
    {
     "data": {
      "text/html": [
       "<div>\n",
       "<style scoped>\n",
       "    .dataframe tbody tr th:only-of-type {\n",
       "        vertical-align: middle;\n",
       "    }\n",
       "\n",
       "    .dataframe tbody tr th {\n",
       "        vertical-align: top;\n",
       "    }\n",
       "\n",
       "    .dataframe thead th {\n",
       "        text-align: right;\n",
       "    }\n",
       "</style>\n",
       "<table border=\"1\" class=\"dataframe\">\n",
       "  <thead>\n",
       "    <tr style=\"text-align: right;\">\n",
       "      <th></th>\n",
       "      <th>Engine HP</th>\n",
       "      <th>Engine Cylinders</th>\n",
       "    </tr>\n",
       "  </thead>\n",
       "  <tbody>\n",
       "    <tr>\n",
       "      <th>3912</th>\n",
       "      <td>189.0</td>\n",
       "      <td>4.0</td>\n",
       "    </tr>\n",
       "    <tr>\n",
       "      <th>3913</th>\n",
       "      <td>218.0</td>\n",
       "      <td>4.0</td>\n",
       "    </tr>\n",
       "  </tbody>\n",
       "</table>\n",
       "</div>"
      ],
      "text/plain": [
       "      Engine HP  Engine Cylinders\n",
       "3912      189.0               4.0\n",
       "3913      218.0               4.0"
      ]
     },
     "execution_count": 61,
     "metadata": {},
     "output_type": "execute_result"
    }
   ],
   "source": [
    "# select all 'Lotus cars'\n",
    "df_lotus = df[df['Make'] == 'Lotus'][['Engine HP', 'Engine Cylinders']]\n",
    "print(len(df_lotus))\n",
    "# 29 records\n",
    "\n",
    "df_lotus.drop_duplicates(inplace=True)\n",
    "print(len(df_lotus))\n",
    "# 9 records\n",
    "\n",
    "df_lotus.head(n=2)"
   ]
  },
  {
   "cell_type": "code",
   "execution_count": 62,
   "id": "ecedd534",
   "metadata": {},
   "outputs": [
    {
     "data": {
      "text/plain": [
       "array([[189., 218., 217., 350., 400., 276., 345., 257., 240.],\n",
       "       [  4.,   4.,   4.,   8.,   6.,   6.,   6.,   4.,   4.]])"
      ]
     },
     "execution_count": 62,
     "metadata": {},
     "output_type": "execute_result"
    }
   ],
   "source": [
    "# get underlying numpy array and X Transpose of it\n",
    "X = df_lotus.values\n",
    "X.shape\n",
    "# 9x2\n",
    "\n",
    "# Transpose\n",
    "XT = X.T\n",
    "XT"
   ]
  },
  {
   "cell_type": "code",
   "execution_count": 63,
   "id": "1e568038",
   "metadata": {},
   "outputs": [
    {
     "data": {
      "text/plain": [
       "(2, 2)"
      ]
     },
     "execution_count": 63,
     "metadata": {},
     "output_type": "execute_result"
    }
   ],
   "source": [
    "# Multiply XT and X\n",
    "XTX = XT.dot(X)\n",
    "XTX.shape\n",
    "# 2x2 matrix"
   ]
  },
  {
   "cell_type": "code",
   "execution_count": 64,
   "id": "3bc6153a",
   "metadata": {},
   "outputs": [
    {
     "data": {
      "text/plain": [
       "array([[ 5.53084235e-05, -2.94319825e-03],\n",
       "       [-2.94319825e-03,  1.60588447e-01]])"
      ]
     },
     "execution_count": 64,
     "metadata": {},
     "output_type": "execute_result"
    }
   ],
   "source": [
    "# Inverse of XTX\n",
    "XTX_Inv = np.linalg.inv(XTX)\n",
    "XTX_Inv"
   ]
  },
  {
   "cell_type": "code",
   "execution_count": 65,
   "id": "5dba9208",
   "metadata": {},
   "outputs": [
    {
     "data": {
      "text/plain": [
       "array([1100,  800,  750,  850, 1300, 1000, 1000, 1300,  800])"
      ]
     },
     "execution_count": 65,
     "metadata": {},
     "output_type": "execute_result"
    }
   ],
   "source": [
    "y = np.array([1100, 800, 750, 850, 1300, 1000, 1000, 1300, 800])\n",
    "y"
   ]
  },
  {
   "cell_type": "code",
   "execution_count": 66,
   "id": "ddef8847",
   "metadata": {},
   "outputs": [
    {
     "data": {
      "text/plain": [
       "array([  4.5949, -63.5643])"
      ]
     },
     "execution_count": 66,
     "metadata": {},
     "output_type": "execute_result"
    }
   ],
   "source": [
    "# Multiply the inverse of XTX with the transpose of X, \n",
    "# and then multiply the result by y. Call the result w.\n",
    "w = (XTX_Inv.dot(XT)).dot(y)\n",
    "np.around(w, decimals=4)"
   ]
  },
  {
   "cell_type": "markdown",
   "id": "32ce82d1",
   "metadata": {},
   "source": [
    "## Submit the results\n",
    "\n",
    "Submit your results here: https://forms.gle/vLp3mvtnrjJxCZx66\n",
    "\n",
    "If your answer doesn't match options exactly, select the closest one.\n",
    "\n",
    "\n",
    "## Deadline\n",
    "\n",
    "The deadline for submitting is 12 September 2022 (Monday), 23:00 CEST (Berlin time).\n",
    "\n",
    "After that, the form will be closed."
   ]
  },
  {
   "cell_type": "code",
   "execution_count": null,
   "id": "9c163374",
   "metadata": {},
   "outputs": [],
   "source": []
  }
 ],
 "metadata": {
  "kernelspec": {
   "display_name": "venv_mlzc",
   "language": "python",
   "name": "venv_mlzc"
  },
  "language_info": {
   "codemirror_mode": {
    "name": "ipython",
    "version": 3
   },
   "file_extension": ".py",
   "mimetype": "text/x-python",
   "name": "python",
   "nbconvert_exporter": "python",
   "pygments_lexer": "ipython3",
   "version": "3.9.7"
  }
 },
 "nbformat": 4,
 "nbformat_minor": 5
}
